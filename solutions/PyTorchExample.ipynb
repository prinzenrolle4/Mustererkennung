{
 "cells": [
  {
   "cell_type": "code",
   "execution_count": 1,
   "id": "c33b199b-a412-4411-adbf-4087cb4e37a2",
   "metadata": {},
   "outputs": [],
   "source": [
    "from GLC.data_loading.common import load_patch"
   ]
  },
  {
   "cell_type": "code",
   "execution_count": 2,
   "id": "f3dcd2b2-5f34-4004-b41d-2a5b532451a5",
   "metadata": {},
   "outputs": [],
   "source": [
    "import pandas as pd\n",
    "import matplotlib.pyplot as plt\n",
    "from __future__ import annotations\n",
    "from pathlib import Path\n",
    "from typing import Optional, Union, TYPE_CHECKING\n",
    "\n",
    "import numpy as np\n",
    "from PIL import Image\n",
    "import tifffile"
   ]
  },
  {
   "cell_type": "code",
   "execution_count": 3,
   "id": "0a86d29f-94d2-4e20-8056-9fe3c1415fd8",
   "metadata": {},
   "outputs": [],
   "source": [
    "df_obs_train = pd.read_csv(\"../data/observations/observations_fr_train.csv\", sep=\";\", index_col=\"observation_id\", nrows = 10000)"
   ]
  },
  {
   "cell_type": "code",
   "execution_count": 4,
   "id": "28e6c840-1b5f-4f5d-9a99-9568342f6754",
   "metadata": {},
   "outputs": [
    {
     "data": {
      "text/plain": [
       "array([241, 101, 700, ..., 727, 234,  70], dtype=int64)"
      ]
     },
     "execution_count": 4,
     "metadata": {},
     "output_type": "execute_result"
    }
   ],
   "source": [
    "df_obs_train.species_id.values"
   ]
  },
  {
   "cell_type": "code",
   "execution_count": 5,
   "id": "b4cefd9a-2c01-46a2-8a3b-1ce55030781c",
   "metadata": {},
   "outputs": [],
   "source": [
    "observation_ids = df_obs_train.index"
   ]
  },
  {
   "cell_type": "code",
   "execution_count": 6,
   "id": "59e44c50-9b30-423f-82f4-127d4e554711",
   "metadata": {},
   "outputs": [],
   "source": [
    "image = load_patch(observation_ids[0], \"../data\", data=\"landcover\")"
   ]
  },
  {
   "cell_type": "code",
   "execution_count": 7,
   "id": "3d86bb18-c3b0-42e0-8968-72cc3b9abd6c",
   "metadata": {},
   "outputs": [
    {
     "data": {
      "image/png": "[encoded data removed]",
      "text/plain": [
       "<Figure size 432x288 with 1 Axes>"
      ]
     },
     "metadata": {
      "needs_background": "light"
     },
     "output_type": "display_data"
    }
   ],
   "source": [
    "for i in range(0, len(image)):\n",
    "    plt.imshow(image[i], interpolation='nearest')\n",
    "    plt.show()"
   ]
  },
  {
   "cell_type": "code",
   "execution_count": 8,
   "id": "8ac6aacc-c1b6-4840-b560-dddc341ba62c",
   "metadata": {},
   "outputs": [],
   "source": [
    "training_data = []\n",
    "training_label = df_obs_train.species_id.values\n",
    "for i in observation_ids:\n",
    "    training_data.append(load_patch(i, \"../data\", data=\"rgb\")[0])"
   ]
  },
  {
   "cell_type": "code",
   "execution_count": 9,
   "id": "be37a364-e838-4955-ba41-9c076c65b806",
   "metadata": {},
   "outputs": [],
   "source": [
    "##for image in training_data:\n",
    "##    plt.imshow(image, interpolation='nearest')\n",
    "##    plt.show()\n",
    "##print(len(training_data), len(training_label))"
   ]
  },
  {
   "cell_type": "code",
   "execution_count": 10,
   "id": "9e73cd2e-b7f7-4225-8dcd-46d46f8441c3",
   "metadata": {},
   "outputs": [],
   "source": [
    "import os\n",
    "import torch\n",
    "import numpy as np\n",
    "from torch import from_numpy\n",
    "import torchvision.transforms as transforms\n",
    "from torch.utils.data import Dataset, DataLoader\n",
    "from PIL import Image"
   ]
  },
  {
   "cell_type": "code",
   "execution_count": 11,
   "id": "a7977e7e-8e0a-48d8-b752-aff4d8c77eb5",
   "metadata": {},
   "outputs": [],
   "source": [
    "def load_landcover(\n",
    "    observation_id: Union[int, str],\n",
    "    patches_path: Union[str, Path]\n",
    ") -> Patches:\n",
    "\n",
    "    observation_id = str(observation_id)\n",
    "\n",
    "    region = \"patches-fr\"\n",
    "    subfolder1 = observation_id[-2:]\n",
    "    subfolder2 = observation_id[-4:-2]\n",
    "\n",
    "    filename = Path(patches_path) / region / subfolder1 / subfolder2 / observation_id\n",
    "\n",
    "    rgb_filename = filename.with_name(filename.stem + \"_rgb.jpg\")\n",
    "    rgb_patch = Image.open(rgb_filename)\n",
    "    transform = transforms.Compose([transforms.PILToTensor()])\n",
    "  \n",
    "    img_tensor = transform(rgb_patch)\n",
    "    return img_tensor\n",
    "\n",
    "class CustomImageDataset(Dataset):\n",
    "    \n",
    "    def __init__ (self,transform=None, target_transform=None):\n",
    "        self.img_labels = pd.read_csv(\"../data/observations/observations_fr_train.csv\", sep=\";\", index_col=\"observation_id\", nrows = 10000).species_id.values\n",
    "        self.transform = transform\n",
    "        self.target_transform = target_transform\n",
    "        \n",
    "    def __len__(self):\n",
    "        return len(self.img_labels)\n",
    "    \n",
    "    def __getitem__(self, index):\n",
    "        image = load_landcover(observation_ids[index], \"../data\")\n",
    "        label = self.img_labels[index]\n",
    "        if self.transform:\n",
    "            image = self.transform(image)\n",
    "        if self.target_transform:\n",
    "            label = self.target_transform(label)\n",
    "        return image, label\n",
    "        "
   ]
  },
  {
   "cell_type": "code",
   "execution_count": 12,
   "id": "22833f55-3b0a-4c45-a1d0-d0237ff9ad28",
   "metadata": {},
   "outputs": [
    {
     "name": "stdout",
     "output_type": "stream",
     "text": [
      "2100\n"
     ]
    }
   ],
   "source": [
    "from GLC.data_loading.pytorch_dataset import GeoLifeCLEF2022Dataset\n",
    "longdataset = GeoLifeCLEF2022Dataset(\"../data\",subset = \"train\", \n",
    "                                 region = 'fr', \n",
    "                                 patch_data = 'rgb', \\\n",
    "                                 use_rasters = False,\\\n",
    "                                 #transform = get_train_transforms(),\\\n",
    "                                 transform = None)\n",
    "\n",
    "train_size = int(0.005 * 0.8 * len(longdataset))\n",
    "val_size = len(longdataset) - train_size\n",
    "\n",
    "\n",
    "t1, t2 = torch.utils.data.random_split(longdataset, [train_size, val_size])\n",
    "train_dataset, val_dataset = torch.utils.data.random_split(t1, [int(0.8 * len(t1)), len(t1) - int(0.8 * len(t1))])\n",
    "print(len(train_dataset))\n",
    "train_loader = DataLoader(train_dataset, batch_size=16,num_workers = 0,shuffle = True,drop_last=True)\n",
    "val_loader = DataLoader(val_dataset, batch_size=16, num_workers = 0,shuffle = False,drop_last=True)"
   ]
  },
  {
   "cell_type": "code",
   "execution_count": 13,
   "id": "fb3ae6b9-4db2-4630-83c8-7125a69ed4be",
   "metadata": {},
   "outputs": [],
   "source": [
    "import torch.nn as nn\n",
    "import torch.optim as optim\n",
    "import torch.nn.functional as F\n",
    "import pretrainedmodels\n",
    "import gc\n",
    "\n",
    "\n",
    "from torchvision.models.resnet import ResNet, BasicBlock\n",
    "\n",
    "\n",
    "import torch\n",
    "device = torch.device(\"cuda:0\" if torch.cuda.is_available() else \"cpu\")"
   ]
  },
  {
   "cell_type": "code",
   "execution_count": 14,
   "id": "4e55c7b3-beff-4e9d-a3ae-a6fc4755064b",
   "metadata": {},
   "outputs": [],
   "source": [
    "device = torch.device(\"cuda:0\" if torch.cuda.is_available() else \"cpu\")\n",
    "\n",
    "class NeuralNetwork(nn.Module):\n",
    "    def __init__(self):\n",
    "        super(NeuralNetwork, self).__init__()\n",
    "        self.flatten = nn.Flatten()\n",
    "        self.linear_relu_stack = nn.Sequential(\n",
    "            nn.Linear(196608, 512),\n",
    "            nn.ReLU(),\n",
    "            nn.Linear(512, 512),\n",
    "            nn.ReLU(),\n",
    "            nn.Linear(512, 17036),\n",
    "        )\n",
    "    \n",
    "    def forward(self, x):\n",
    "        x = self.flatten(x)\n",
    "        logits = self.linear_relu_stack(x)\n",
    "        return logits\n",
    "    \n",
    "def train(model, train_loader, optimizer, loss_fn):\n",
    "    running_loss = 0.\n",
    "    last_loss = 0.\n",
    "    \n",
    "    for i, data in enumerate(train_loader):\n",
    "        inputs, labels = data\n",
    "        optimizer.zero_grad()\n",
    "        inputs = inputs.float()\n",
    "        outputs = model(inputs)\n",
    "        \n",
    "        loss = loss_fn(outputs, labels)\n",
    "        loss.backward()\n",
    "        \n",
    "        optimizer.step()\n",
    "        \n",
    "        running_loss += loss.item()\n",
    "        \n",
    "        if i % 100 == 99:\n",
    "            last_loss = running_loss / 100\n",
    "            running_loss = 0.\n",
    "\n",
    "    return last_loss\n",
    "\n",
    "model = NeuralNetwork().to(device)"
   ]
  },
  {
   "cell_type": "code",
   "execution_count": 15,
   "id": "3284005a-1ce4-4fb2-8aac-3749600ad478",
   "metadata": {},
   "outputs": [
    {
     "data": {
      "text/plain": [
       "5.799741315424987e+25"
      ]
     },
     "execution_count": 15,
     "metadata": {},
     "output_type": "execute_result"
    }
   ],
   "source": [
    "optimizer = torch.optim.SGD(model.parameters(), lr=0.001, momentum=0.9)\n",
    "loss_fn = nn.CrossEntropyLoss(ignore_index = 1)\n",
    "train(model, train_loader, optimizer, loss_fn)"
   ]
  },
  {
   "cell_type": "code",
   "execution_count": 19,
   "id": "2e92dd93-721f-49b3-ae95-44d2da8f5ff6",
   "metadata": {},
   "outputs": [
    {
     "name": "stdout",
     "output_type": "stream",
     "text": [
      "281\n"
     ]
    }
   ],
   "source": [
    "image, label = train_dataset[0]\n",
    "print(label)"
   ]
  },
  {
   "cell_type": "code",
   "execution_count": 40,
   "id": "19e37a87-0b78-48d6-9fa9-7d9c3c7c17c5",
   "metadata": {},
   "outputs": [
    {
     "name": "stdout",
     "output_type": "stream",
     "text": [
      "18\n"
     ]
    }
   ],
   "source": [
    "def is_in_top_30(outputs, species, speciesId):\n",
    "    values, indices = torch.topk(outputs, 30)\n",
    "    for i in indices:\n",
    "        if(species[i] == speciesId):\n",
    "            return True\n",
    "    return False\n",
    "\n",
    "species = df_obs_train.species_id.values\n",
    "correct = 0\n",
    "\n",
    "for i, data in enumerate(train_loader):\n",
    "        inputs, labels = data\n",
    "        inputs = inputs.float()\n",
    "        outputs = model(inputs)\n",
    "        for index, item in enumerate(outputs):\n",
    "            if(is_in_top_30(item, species, labels[index])):\n",
    "                correct += 1\n",
    "        if (i == 50):\n",
    "            break\n",
    "        \n",
    "print(correct)"
   ]
  },
  {
   "cell_type": "code",
   "execution_count": 31,
   "id": "6aab0f2e-372f-448f-8dbe-b5f64c743364",
   "metadata": {},
   "outputs": [],
   "source": []
  },
  {
   "cell_type": "code",
   "execution_count": null,
   "id": "ef119e54-bc6b-4143-9194-cbdb142fe98e",
   "metadata": {},
   "outputs": [],
   "source": []
  }
 ],
 "metadata": {
  "kernelspec": {
   "display_name": "Python 3 (ipykernel)",
   "language": "python",
   "name": "python3"
  },
  "language_info": {
   "codemirror_mode": {
    "name": "ipython",
    "version": 3
   },
   "file_extension": ".py",
   "mimetype": "text/x-python",
   "name": "python",
   "nbconvert_exporter": "python",
   "pygments_lexer": "ipython3",
   "version": "3.9.12"
  }
 },
 "nbformat": 4,
 "nbformat_minor": 5
}
