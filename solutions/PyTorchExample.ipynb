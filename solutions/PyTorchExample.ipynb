{
 "cells": [
  {
   "cell_type": "code",
   "execution_count": 9,
   "id": "c33b199b-a412-4411-adbf-4087cb4e37a2",
   "metadata": {},
   "outputs": [],
   "source": [
    "from GLC.data_loading.common import load_patch"
   ]
  },
  {
   "cell_type": "code",
   "execution_count": null,
   "id": "f3dcd2b2-5f34-4004-b41d-2a5b532451a5",
   "metadata": {},
   "outputs": [],
   "source": [
    "import pandas as pd\n",
    "import matplotlib.pyplot as plt\n",
    "from __future__ import annotations\n",
    "from pathlib import Path\n",
    "from typing import Optional, Union, TYPE_CHECKING\n",
    "\n",
    "import numpy as np\n",
    "from PIL import Image\n",
    "import tifffile"
   ]
  },
  {
   "cell_type": "code",
   "execution_count": null,
   "id": "0a86d29f-94d2-4e20-8056-9fe3c1415fd8",
   "metadata": {},
   "outputs": [],
   "source": [
    "df_obs_train = pd.read_csv(\"data/observations/observations_fr_train.csv\", sep=\";\", index_col=\"observation_id\", nrows = 10000)"
   ]
  },
  {
   "cell_type": "code",
   "execution_count": null,
   "id": "28e6c840-1b5f-4f5d-9a99-9568342f6754",
   "metadata": {},
   "outputs": [],
   "source": [
    "df_obs_train.species_id.values"
   ]
  },
  {
   "cell_type": "code",
   "execution_count": null,
   "id": "b4cefd9a-2c01-46a2-8a3b-1ce55030781c",
   "metadata": {},
   "outputs": [],
   "source": [
    "observation_ids = df_obs_train.index"
   ]
  },
  {
   "cell_type": "code",
   "execution_count": null,
   "id": "59e44c50-9b30-423f-82f4-127d4e554711",
   "metadata": {},
   "outputs": [],
   "source": [
    "image = load_patch(observation_ids[0], \"data\", data=\"all\")\n",
    "image[0]"
   ]
  },
  {
   "cell_type": "code",
   "execution_count": null,
   "id": "3d86bb18-c3b0-42e0-8968-72cc3b9abd6c",
   "metadata": {},
   "outputs": [],
   "source": [
    "for i in range(0, len(image)):\n",
    "    plt.imshow(image[i], interpolation='nearest')\n",
    "    plt.show()"
   ]
  },
  {
   "cell_type": "code",
   "execution_count": null,
   "id": "8ac6aacc-c1b6-4840-b560-dddc341ba62c",
   "metadata": {},
   "outputs": [],
   "source": [
    "training_data = []\n",
    "training_label = df_obs_train.species_id.values\n",
    "for i in observation_ids:\n",
    "    training_data.append(load_patch(i, \"data\", data=\"rgb\")[0])"
   ]
  },
  {
   "cell_type": "code",
   "execution_count": null,
   "id": "be37a364-e838-4955-ba41-9c076c65b806",
   "metadata": {},
   "outputs": [],
   "source": [
    "##for image in training_data:\n",
    "##    plt.imshow(image, interpolation='nearest')\n",
    "##    plt.show()\n",
    "##print(len(training_data), len(training_label))"
   ]
  },
  {
   "cell_type": "code",
   "execution_count": null,
   "id": "9e73cd2e-b7f7-4225-8dcd-46d46f8441c3",
   "metadata": {},
   "outputs": [],
   "source": [
    "import os\n",
    "import torch\n",
    "import numpy as np\n",
    "from torch import from_numpy\n",
    "import torchvision.transforms as transforms\n",
    "from torch.utils.data import Dataset, DataLoader\n",
    "from PIL import Image"
   ]
  },
  {
   "cell_type": "code",
   "execution_count": null,
   "id": "a7977e7e-8e0a-48d8-b752-aff4d8c77eb5",
   "metadata": {},
   "outputs": [],
   "source": [
    "def load_landcover(\n",
    "    observation_id: Union[int, str],\n",
    "    patches_path: Union[str, Path]\n",
    ") -> Patches:\n",
    "\n",
    "    observation_id = str(observation_id)\n",
    "\n",
    "    region = \"patches-fr\"\n",
    "    subfolder1 = observation_id[-2:]\n",
    "    subfolder2 = observation_id[-4:-2]\n",
    "\n",
    "    filename = Path(patches_path) / region / subfolder1 / subfolder2 / observation_id\n",
    "\n",
    "    rgb_filename = filename.with_name(filename.stem + \"_rgb.jpg\")\n",
    "    rgb_patch = Image.open(rgb_filename)\n",
    "    transform = transforms.Compose([transforms.PILToTensor()])\n",
    "  \n",
    "    img_tensor = transform(rgb_patch)\n",
    "    return img_tensor\n",
    "\n",
    "class CustomImageDataset(Dataset):\n",
    "    \n",
    "    def __init__ (self,transform=None, target_transform=None):\n",
    "        self.img_labels = pd.read_csv(\"data/observations/observations_fr_train.csv\", sep=\";\", index_col=\"observation_id\", nrows = 10000).species_id.values\n",
    "        self.transform = transform\n",
    "        self.target_transform = target_transform\n",
    "        \n",
    "    def __len__(self):\n",
    "        return len(self.img_labels)\n",
    "    \n",
    "    def __getitem__(self, index):\n",
    "        image = load_landcover(observation_ids[index], \"data\")\n",
    "        label = self.img_labels[index]\n",
    "        if self.transform:\n",
    "            image = self.transform(image)\n",
    "        if self.target_transform:\n",
    "            label = self.target_transform(label)\n",
    "        return image, label\n",
    "        "
   ]
  },
  {
   "cell_type": "code",
   "execution_count": null,
   "id": "22833f55-3b0a-4c45-a1d0-d0237ff9ad28",
   "metadata": {},
   "outputs": [],
   "source": [
    "from GLC.data_loading.pytorch_dataset import GeoLifeCLEF2022Dataset\n",
    "longdataset = GeoLifeCLEF2022Dataset(\"data\",subset = \"train\", \n",
    "                                 region = 'fr', \n",
    "                                 patch_data = 'rgb', \\\n",
    "                                 use_rasters = False,\\\n",
    "                                 #transform = get_train_transforms(),\\\n",
    "                                 transform = None)\n",
    "\n",
    "train_size = int(0.005 * 0.8 * len(longdataset))\n",
    "val_size = len(longdataset) - train_size\n",
    "\n",
    "\n",
    "t1, t2 = torch.utils.data.random_split(longdataset, [train_size, val_size])\n",
    "train_dataset, val_dataset = torch.utils.data.random_split(t1, [int(0.8 * len(t1)), len(t1) - int(0.8 * len(t1))])\n",
    "print(len(train_dataset))\n",
    "train_loader = DataLoader(train_dataset, batch_size=16,num_workers = 0,shuffle = True,drop_last=True)\n",
    "val_loader = DataLoader(val_dataset, batch_size=16, num_workers = 0,shuffle = False,drop_last=True)"
   ]
  },
  {
   "cell_type": "code",
   "execution_count": null,
   "id": "fb3ae6b9-4db2-4630-83c8-7125a69ed4be",
   "metadata": {},
   "outputs": [],
   "source": [
    "import torch.nn as nn\n",
    "import torch.optim as optim\n",
    "import torch.nn.functional as F\n",
    "import pretrainedmodels\n",
    "import gc\n",
    "\n",
    "\n",
    "from torchvision.models.resnet import ResNet, BasicBlock\n",
    "\n",
    "\n",
    "import torch\n",
    "device = torch.device(\"cuda:0\" if torch.cuda.is_available() else \"cpu\")"
   ]
  },
  {
   "cell_type": "code",
   "execution_count": null,
   "id": "4e55c7b3-beff-4e9d-a3ae-a6fc4755064b",
   "metadata": {},
   "outputs": [],
   "source": [
    "N_classes = 17036\n",
    "class ResNetGeolife(ResNet):\n",
    "    def __init__(self):\n",
    "        super().__init__(BasicBlock, [3, 4, 6, 3], num_classes=N_classes)\n",
    "\n",
    "        self.conv1 = nn.Conv2d(256, 64, kernel_size=7, stride=1, padding=3, bias=False)\n",
    "\n",
    "        \n",
    "net = ResNetGeolife().to(device)"
   ]
  },
  {
   "cell_type": "code",
   "execution_count": null,
   "id": "3284005a-1ce4-4fb2-8aac-3749600ad478",
   "metadata": {},
   "outputs": [],
   "source": [
    "optimizer = torch.optim.Adam(net.parameters(),lr = 0.001)\n",
    "\n",
    "device = torch.device(\"cuda:0\" if torch.cuda.is_available() else \"cpu\")\n",
    "model = net.to(device)\n",
    "\n",
    "def loss_fn(preds, labels):\n",
    "    #print (preds)\n",
    "    #print(labels)\n",
    "    loss = nn.CrossEntropyLoss()(preds, labels)\n",
    "    #loss = nn.BCEWithLogitsLoss()\n",
    "    return loss"
   ]
  },
  {
   "cell_type": "code",
   "execution_count": null,
   "id": "13fa8d7d-0a48-4844-9a24-bad2348c146e",
   "metadata": {},
   "outputs": [],
   "source": [
    "def train(model, optimizer,  train_loader, val_loader, epochs=2, device='cpu'):\n",
    "    for epoch in range(epochs):\n",
    "        training_loss = 0.0\n",
    "        valid_loss = 0.0\n",
    "        model.train()\n",
    "        for batch in train_loader:\n",
    "            optimizer.zero_grad()\n",
    "            inputs, targets = batch\n",
    "            inputs = inputs.float()\n",
    "            targets = targets.to(device)\n",
    "            \n",
    "            inputs_m, inputs_s = inputs.mean(), inputs.std()\n",
    "            inputs = (inputs - inputs_m) / inputs_s\n",
    "            \n",
    "            inputs = inputs.to(device)\n",
    "            \n",
    "            output = model(inputs) \n",
    "            \n",
    "            loss = nn.CrossEntropyLoss(ignore_index = -1)\n",
    "            loss = loss(output, targets)\n",
    "            \n",
    "            optimizer.zero_grad()\n",
    "            loss.backward()\n",
    "            optimizer.step()\n",
    "            training_loss += loss.item() \n",
    "        training_loss /= len(train_loader.dataset)\n",
    "        \n",
    "        model.eval()\n",
    "        num_correct = 0\n",
    "        num_examples = 0\n",
    "        for batch in val_loader:\n",
    "            inputs, targets = batch\n",
    "            inputs = inputs.float()\n",
    "            \n",
    "            inputs_m, inputs_s = inputs.mean(), inputs.std()\n",
    "            inputs = (inputs - inputs_m) / inputs_s\n",
    "            \n",
    "            #inputs = np.repeat(inputs[..., np.newaxis], 3, -1)\n",
    "            #if inputs.size(1) > 3:\n",
    "            #    inputs = inputs.permute(0,3,2,1)\n",
    "                \n",
    "            inputs = inputs.to(device)\n",
    "            #inputs = inputs.to(device)\n",
    "            targets = targets.to(device)\n",
    "            output = model(inputs)\n",
    "            loss = loss_fn(output, targets)\n",
    "            #valid_loss += loss.data.item()*inputs.size(0)\n",
    "            valid_loss += loss.item() \n",
    "            correct = torch.eq(torch.max(F.softmax(output, dim=1), dim=1)[1], targets)\n",
    "           \n",
    "            num_correct += torch.sum(correct).item()\n",
    "            \n",
    "            num_examples += correct.shape[0]\n",
    "           \n",
    "        valid_loss /= len(val_loader.dataset)\n",
    "        \n",
    "        try:\n",
    "            x =  num_correct/num_examples\n",
    "        except ZeroDivisionError:\n",
    "            x = 0\n",
    "        print('Epoch: {}, Training Loss: {:.2f}, Validation Loss: {:.2f}, '\n",
    "              'accuracy = {:.2f}'.format(epoch+1, training_loss, valid_loss, x))"
   ]
  },
  {
   "cell_type": "code",
   "execution_count": null,
   "id": "e235460a-9d89-45f2-98e1-ef33efd5fe87",
   "metadata": {},
   "outputs": [],
   "source": [
    "\n",
    "\n",
    "gc.collect()\n",
    "\n"
   ]
  },
  {
   "cell_type": "code",
   "execution_count": null,
   "id": "3f391080-3a58-4a51-bf52-cd66c65f28e0",
   "metadata": {},
   "outputs": [],
   "source": [
    "train(model.to(device), optimizer, train_loader, val_loader, epochs=2, device=device)"
   ]
  },
  {
   "cell_type": "code",
   "execution_count": null,
   "id": "a6286856-08e0-4a1f-9c99-f47ed0d5bee5",
   "metadata": {},
   "outputs": [],
   "source": [
    "test_dataset = GeoLifeCLEF2022Dataset(\"data\" ,subset = \"test\", \n",
    "                                 region = 'fr', \n",
    "                                 patch_data = 'rgb', \\\n",
    "                                 use_rasters = False,\\\n",
    "                                 transform = None\n",
    "                                 )\n",
    "test_loader = torch.utils.data.DataLoader(test_dataset, batch_size=1, shuffle = False)"
   ]
  },
  {
   "cell_type": "code",
   "execution_count": null,
   "id": "b2301e54-363a-4e09-8263-f7e80901515d",
   "metadata": {},
   "outputs": [],
   "source": [
    "len(test_dataset)\n",
    "train_size = int(0.05 * 0.8 * len(test_dataset))\n",
    "val_size = len(test_dataset) - train_size\n",
    "test_data, t2 = torch.utils.data.random_split(test_dataset, [train_size, val_size])"
   ]
  },
  {
   "cell_type": "code",
   "execution_count": null,
   "id": "1cebb6a3-318e-4074-b336-bc27dc2deb43",
   "metadata": {},
   "outputs": [],
   "source": []
  }
 ],
 "metadata": {
  "kernelspec": {
   "display_name": "Python 3 (ipykernel)",
   "language": "python",
   "name": "python3"
  },
  "language_info": {
   "codemirror_mode": {
    "name": "ipython",
    "version": 3
   },
   "file_extension": ".py",
   "mimetype": "text/x-python",
   "name": "python",
   "nbconvert_exporter": "python",
   "pygments_lexer": "ipython3",
   "version": "3.9.12"
  }
 },
 "nbformat": 4,
 "nbformat_minor": 5
}
