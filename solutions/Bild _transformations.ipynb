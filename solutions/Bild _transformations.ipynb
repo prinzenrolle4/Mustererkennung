{
 "cells": [
  {
   "cell_type": "code",
   "execution_count": 1,
   "id": "6798acae-d489-47d1-a56f-6ee6d4c67747",
   "metadata": {},
   "outputs": [
    {
     "data": {
      "image/png": "[encoded data removed]",
      "text/plain": [
       "<Figure size 432x288 with 1 Axes>"
      ]
     },
     "metadata": {
      "needs_background": "light"
     },
     "output_type": "display_data"
    },
    {
     "data": {
      "text/plain": [
       "array([[15, 15, 15, ..., 15, 15, 15],\n",
       "       [15, 15, 15, ..., 15, 15, 15],\n",
       "       [15, 15, 15, ..., 15, 15, 15],\n",
       "       ...,\n",
       "       [15, 15, 15, ...,  8,  8,  8],\n",
       "       [15, 15, 15, ...,  8,  8,  8],\n",
       "       [15, 15, 15, ...,  8,  8,  8]], dtype=uint8)"
      ]
     },
     "execution_count": 1,
     "metadata": {},
     "output_type": "execute_result"
    }
   ],
   "source": [
    "from GLC.data_loading.common import load_patch\n",
    "import pandas as pd\n",
    "import matplotlib.pyplot as plt\n",
    "\n",
    "df_obs_train = pd.read_csv(\"../data/observations/observations_fr_train.csv\", sep=\";\", index_col=\"observation_id\", nrows = 10000)\n",
    "df_obs_train.species_id.values\n",
    "observation_ids = df_obs_train.index\n",
    "image = load_patch(observation_ids[0], \"../data\", data=\"landcover\")\n",
    "for i in range(0, len(image)):\n",
    "    plt.imshow(image[i], interpolation='nearest')\n",
    "    plt.show()\n",
    "image[0]"
   ]
  },
  {
   "cell_type": "code",
   "execution_count": 2,
   "id": "3a4de99f-a7aa-4fd4-a4cd-15ea08eaaac1",
   "metadata": {},
   "outputs": [],
   "source": [
    "from GLC.data_loading.pytorch_dataset import GeoLifeCLEF2022Dataset\n",
    "\n",
    "dataset = GeoLifeCLEF2022Dataset(\"../data\",subset = \"train\", \n",
    "                                 region = 'fr', \n",
    "                                 patch_data = 'landcover', \\\n",
    "                                 use_rasters = False,\\\n",
    "                                 transform = None)"
   ]
  },
  {
   "cell_type": "code",
   "execution_count": 4,
   "id": "a81c62ea-1bc4-4ea1-a0e4-f21c09caec74",
   "metadata": {},
   "outputs": [],
   "source": [
    "image, target = dataset.__getitem__(0)"
   ]
  },
  {
   "cell_type": "code",
   "execution_count": 5,
   "id": "0b6b3595-61cd-448c-b01e-782b8bbb3b7c",
   "metadata": {},
   "outputs": [
    {
     "data": {
      "text/plain": [
       "array([[15, 15, 15, ..., 15, 15, 15],\n",
       "       [15, 15, 15, ..., 15, 15, 15],\n",
       "       [15, 15, 15, ..., 15, 15, 15],\n",
       "       ...,\n",
       "       [15, 15, 15, ...,  8,  8,  8],\n",
       "       [15, 15, 15, ...,  8,  8,  8],\n",
       "       [15, 15, 15, ...,  8,  8,  8]], dtype=uint8)"
      ]
     },
     "execution_count": 5,
     "metadata": {},
     "output_type": "execute_result"
    }
   ],
   "source": [
    "image"
   ]
  },
  {
   "cell_type": "code",
   "execution_count": 6,
   "id": "5f5aa007-3322-4309-a7e8-77b8fcd398c8",
   "metadata": {},
   "outputs": [
    {
     "data": {
      "text/plain": [
       "256"
      ]
     },
     "execution_count": 6,
     "metadata": {},
     "output_type": "execute_result"
    }
   ],
   "source": [
    "len(image)"
   ]
  },
  {
   "cell_type": "code",
   "execution_count": 8,
   "id": "ca6010a7-79cf-4617-a2cb-ce2826589eff",
   "metadata": {},
   "outputs": [
    {
     "data": {
      "text/plain": [
       "256"
      ]
     },
     "execution_count": 8,
     "metadata": {},
     "output_type": "execute_result"
    }
   ],
   "source": [
    "len(image[0])"
   ]
  },
  {
   "cell_type": "code",
   "execution_count": 10,
   "id": "4c95c006-6032-4bff-b3f0-087c8479b9ed",
   "metadata": {},
   "outputs": [
    {
     "data": {
      "image/png": "[encoded data removed]",
      "text/plain": [
       "<Figure size 432x288 with 1 Axes>"
      ]
     },
     "metadata": {
      "needs_background": "light"
     },
     "output_type": "display_data"
    }
   ],
   "source": [
    "plt.imshow(image, interpolation='nearest')\n",
    "plt.show()"
   ]
  },
  {
   "cell_type": "code",
   "execution_count": 15,
   "id": "edaae3c3-4dd4-422f-9bab-8ec6d622a219",
   "metadata": {},
   "outputs": [],
   "source": [
    "import cv2\n",
    "\n",
    "image = cv2.resize(image, (32, 32))"
   ]
  },
  {
   "cell_type": "code",
   "execution_count": 16,
   "id": "4baaebdf-8e5e-4f40-b0b4-76dfeec28f6a",
   "metadata": {},
   "outputs": [
    {
     "data": {
      "text/plain": [
       "array([[15, 15, 15, ..., 15, 15, 15],\n",
       "       [15, 15, 15, ..., 15, 15, 15],\n",
       "       [15, 15, 15, ..., 15, 15, 15],\n",
       "       ...,\n",
       "       [ 2,  2,  2, ...,  3,  3,  3],\n",
       "       [ 4,  4,  2, ...,  8,  8,  8],\n",
       "       [14, 14,  6, ...,  8,  8,  8]], dtype=uint8)"
      ]
     },
     "execution_count": 16,
     "metadata": {},
     "output_type": "execute_result"
    }
   ],
   "source": [
    "image"
   ]
  },
  {
   "cell_type": "code",
   "execution_count": 17,
   "id": "b6e0d8ad-2348-4826-8cca-2eb0ac55b58f",
   "metadata": {},
   "outputs": [
    {
     "data": {
      "image/png": "[encoded data removed]",
      "text/plain": [
       "<Figure size 432x288 with 1 Axes>"
      ]
     },
     "metadata": {
      "needs_background": "light"
     },
     "output_type": "display_data"
    }
   ],
   "source": [
    "plt.imshow(image, interpolation='nearest')\n",
    "plt.show()"
   ]
  },
  {
   "cell_type": "code",
   "execution_count": null,
   "id": "33d42777-c696-45c3-82d3-0280eb1c5cb5",
   "metadata": {},
   "outputs": [],
   "source": []
  }
 ],
 "metadata": {
  "kernelspec": {
   "display_name": "Python 3 (ipykernel)",
   "language": "python",
   "name": "python3"
  },
  "language_info": {
   "codemirror_mode": {
    "name": "ipython",
    "version": 3
   },
   "file_extension": ".py",
   "mimetype": "text/x-python",
   "name": "python",
   "nbconvert_exporter": "python",
   "pygments_lexer": "ipython3",
   "version": "3.9.12"
  }
 },
 "nbformat": 4,
 "nbformat_minor": 5
}
