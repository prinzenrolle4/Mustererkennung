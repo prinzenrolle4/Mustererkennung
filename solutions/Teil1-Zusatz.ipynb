{
 "cells": [
  {
   "cell_type": "code",
   "execution_count": 6,
   "id": "2f1f974f-943b-48fb-9f6c-2399d02860d2",
   "metadata": {},
   "outputs": [],
   "source": [
    "#Notwendige Imports für das Projekt\n",
    "import os\n",
    "from pathlib import Path\n",
    "import pandas as pd\n",
    "import numpy as np\n",
    "import matplotlib.pyplot as plt\n",
    "from sklearn.neighbors import NearestNeighbors\n",
    "\n",
    "from GLC.metrics import top_30_error_rate, top_k_error_rate_from_sets, predict_top_30_set\n",
    "from GLC.submission import generate_submission_file"
   ]
  },
  {
   "cell_type": "code",
   "execution_count": 3,
   "id": "9020fed8-5ee0-4ef6-b3b8-b6c3032a95ff",
   "metadata": {},
   "outputs": [],
   "source": [
    "DATA_PATH = Path(\"./data/\")"
   ]
  },
  {
   "cell_type": "code",
   "execution_count": 4,
   "id": "9d836d74-ee7d-4a60-b5e4-0ece993da90e",
   "metadata": {},
   "outputs": [],
   "source": [
    "df_obs = pd.read_csv(DATA_PATH / \"observations\" / \"observations_fr_train.csv\", sep=\";\", index_col=\"observation_id\")\n",
    "df_obs_test = pd.read_csv(DATA_PATH / \"observations\" / \"observations_fr_test.csv\", sep=\";\", index_col=\"observation_id\")"
   ]
  },
  {
   "cell_type": "code",
   "execution_count": 5,
   "id": "75b5b5e0-e93b-4eed-ada2-7e5300f63868",
   "metadata": {},
   "outputs": [],
   "source": [
    "obs_id_train = df_obs.index[df_obs[\"subset\"] == \"train\"].values\n",
    "obs_id_val = df_obs.index[df_obs[\"subset\"] == \"val\"].values"
   ]
  },
  {
   "cell_type": "code",
   "execution_count": 8,
   "id": "fb98a182-15f8-4ee2-93b5-ce809230720b",
   "metadata": {},
   "outputs": [],
   "source": [
    "y_train = df_obs.loc[obs_id_train][\"species_id\"].values  #Id der Arten vom Trainingsdatensatz\n",
    "y_val = df_obs.loc[obs_id_val][\"species_id\"].values # Id der Arten vom Validierungsdatensatz\n",
    "\n",
    "X_train_loc = df_obs.loc[obs_id_train][['latitude','longitude']].values #Breitengrad, Längengrad vom Trainingsdatensatz\n",
    "X_val_loc = df_obs.loc[obs_id_val][['latitude','longitude']].values # Breitengrad, Längengrad vom Validierungsdatensatz"
   ]
  },
  {
   "cell_type": "code",
   "execution_count": 9,
   "id": "f905ae8b-53af-4ee7-b1a2-d139195bae1f",
   "metadata": {},
   "outputs": [],
   "source": [
    "PREDICTION_COUNT = 30\n",
    "\n",
    "#Nehme die 30 besten Vorhersagen für eine Koordinate\n",
    "def pred_coord(coord, y):\n",
    "    arr = y[coord]\n",
    "    u, count = np.unique(arr, return_counts=True)   # Artenanzahl in Nachbarn\n",
    "    count_sort_ind = np.argsort(-count)             # Absteigende Sortierung\n",
    "    return u[count_sort_ind][:PREDICTION_COUNT]     # Auswahl von Prediction Count\n",
    "\n",
    "#Treffe Vorhersage für ein Array von Koordinaten\n",
    "def predict_NN(model, X_loc, y):\n",
    "    distances, indices = model.kneighbors(X_loc)\n",
    "    predictions = []\n",
    "    for i in range(len(indices)):\n",
    "        predictions.append(pred_coord(indices[i],y))\n",
    "    return np.array(predictions)"
   ]
  },
  {
   "cell_type": "code",
   "execution_count": 11,
   "id": "3455453e-abb3-4756-8957-055d54f999bc",
   "metadata": {},
   "outputs": [],
   "source": [
    "nbrs_100 = NearestNeighbors(n_neighbors=100, algorithm='ball_tree').fit(X_train_loc)\n",
    "distances_100, indices_100 = nbrs_100.kneighbors(X_train_loc)"
   ]
  },
  {
   "cell_type": "code",
   "execution_count": 10,
   "id": "a36eaffd-a830-41b4-8d5f-a5d558ac6014",
   "metadata": {},
   "outputs": [],
   "source": [
    "nbrs_800 = NearestNeighbors(n_neighbors=800, algorithm='ball_tree').fit(X_train_loc)\n",
    "distances_800, indices_800 = nbrs_800.kneighbors(X_train_loc)"
   ]
  },
  {
   "cell_type": "code",
   "execution_count": 17,
   "id": "632292ca-bdec-413f-abfb-eee69c0282d4",
   "metadata": {},
   "outputs": [],
   "source": [
    "species_100 = y_train[indices_100]\n",
    "species_800 = y_train[indices_800]"
   ]
  },
  {
   "cell_type": "code",
   "execution_count": 48,
   "id": "a1be9c30-dc31-476f-9bec-f207b39b4a35",
   "metadata": {},
   "outputs": [],
   "source": [
    "df_data = []"
   ]
  },
  {
   "cell_type": "code",
   "execution_count": 24,
   "id": "f62d9a56-82da-4d9e-9544-356cba20285d",
   "metadata": {},
   "outputs": [],
   "source": [
    "def computeUniqueness(array):\n",
    "    uniqueArray = []\n",
    "    for arr in array:\n",
    "        uniqueArray.append(np.unique(arr))\n",
    "        \n",
    "    return uniqueArray"
   ]
  },
  {
   "cell_type": "code",
   "execution_count": 31,
   "id": "54509b17-6cf4-46f1-8889-48610f3649cf",
   "metadata": {},
   "outputs": [],
   "source": [
    "uniqueArray_100 = computeUniqueness(species_100)\n",
    "uniqueArray_800 = computeUniqueness(species_800)"
   ]
  },
  {
   "cell_type": "code",
   "execution_count": 50,
   "id": "0d970eaa-7f0d-424b-8db4-39ca54389c67",
   "metadata": {},
   "outputs": [
    {
     "data": {
      "text/plain": [
       "[[77.09224655359208, 403.1786798890079]]"
      ]
     },
     "execution_count": 50,
     "metadata": {},
     "output_type": "execute_result"
    }
   ],
   "source": [
    "uniqueArray_100_sizes = list(map(lambda x: x.size, uniqueArray_100))\n",
    "uniqueArray_800_sizes = list(map(lambda x: x.size, uniqueArray_800))\n",
    "avg_species_count = []\n",
    "avg_species_count_100 = np.mean(uniqueArray_100_sizes) \n",
    "avg_species_count_800 = np.mean(uniqueArray_800_sizes)      \n",
    "\n",
    "avg_species_count.append(avg_species_count_100)\n",
    "avg_species_count.append(avg_species_count_800)\n",
    "df_data.append(avg_species_count)"
   ]
  },
  {
   "cell_type": "code",
   "execution_count": 53,
   "id": "4b8d742d-d9e2-49a5-92f6-6bc22e84958a",
   "metadata": {},
   "outputs": [],
   "source": [
    "distances_100_avg = list(map(lambda x: np.mean(x), distances_100))\n",
    "distances_800_avg = list(map(lambda x: np.mean(x), distances_800))"
   ]
  },
  {
   "cell_type": "code",
   "execution_count": 56,
   "id": "a77d050d-b41f-4c21-8225-6a8951429322",
   "metadata": {},
   "outputs": [],
   "source": [
    "avg_distances = []\n",
    "avg_distances.append(np.mean(distances_100_avg))\n",
    "avg_distances.append(np.mean(distances_800_avg))\n",
    "df_data.append(avg_distances)"
   ]
  },
  {
   "cell_type": "code",
   "execution_count": 70,
   "id": "abef49b3-7171-407d-8cb1-2352ce5bc2cc",
   "metadata": {},
   "outputs": [],
   "source": [
    "counts_100 = []\n",
    "for arr in species_100:\n",
    "    spec, count = np.unique(arr, return_counts= True)\n",
    "    counts_100.append(count)\n",
    "    \n",
    "counts_800 = []\n",
    "for arr in species_800:\n",
    "    spec, count = np.unique(arr, return_counts= True)\n",
    "    counts_800.append(count)"
   ]
  },
  {
   "cell_type": "code",
   "execution_count": 103,
   "id": "36f01849-80e9-4b07-8ccc-b658e7a6d371",
   "metadata": {},
   "outputs": [],
   "source": [
    "maximums_100 = []\n",
    "for arr in counts_100:\n",
    "    maximums_100.append(np.amax(arr))\n",
    "    \n",
    "maxmimum_100 = np.mean(maximums_100)\n",
    "\n",
    "maximums_800 = []\n",
    "for arr in counts_800:\n",
    "    maximums_800.append(np.amax(arr))\n",
    "    \n",
    "maxmimum_800 = np.mean(maximums_800)\n",
    "\n",
    "maximums = []\n",
    "maximums.append(maxmimum_100)\n",
    "maximums.append(maxmimum_800)\n",
    "df_data.append(maximums)"
   ]
  },
  {
   "cell_type": "code",
   "execution_count": 93,
   "id": "4d20ce5c-8f95-4c6f-bff7-0453b1dd8399",
   "metadata": {},
   "outputs": [],
   "source": [
    "def count_ones(x):\n",
    "    sum = 0\n",
    "    for i in x:\n",
    "        if i == 1:\n",
    "            sum += 1\n",
    "    return sum\n",
    "    \n",
    "\n",
    "count_1_observation_100 = list(map(lambda x: count_ones(x), counts_100))\n",
    "count_1_observation_800 = list(map(lambda x: count_ones(x), counts_800))"
   ]
  },
  {
   "cell_type": "code",
   "execution_count": 107,
   "id": "b98bd74b-d457-49d9-986d-acb103d36ef2",
   "metadata": {},
   "outputs": [],
   "source": [
    "avg_count_1 = []\n",
    "avg_count_1.append(np.mean(count_1_observation_100))\n",
    "avg_count_1.append(np.mean(count_1_observation_800))\n",
    "df_data.append(avg_count_1)"
   ]
  },
  {
   "cell_type": "code",
   "execution_count": 109,
   "id": "05531944-fd60-45db-bb5e-6357fdc95399",
   "metadata": {},
   "outputs": [
    {
     "data": {
      "text/html": [
       "<div>\n",
       "<style scoped>\n",
       "    .dataframe tbody tr th:only-of-type {\n",
       "        vertical-align: middle;\n",
       "    }\n",
       "\n",
       "    .dataframe tbody tr th {\n",
       "        vertical-align: top;\n",
       "    }\n",
       "\n",
       "    .dataframe thead th {\n",
       "        text-align: right;\n",
       "    }\n",
       "</style>\n",
       "<table border=\"1\" class=\"dataframe\">\n",
       "  <thead>\n",
       "    <tr style=\"text-align: right;\">\n",
       "      <th></th>\n",
       "      <th>k=100</th>\n",
       "      <th>k=800</th>\n",
       "    </tr>\n",
       "  </thead>\n",
       "  <tbody>\n",
       "    <tr>\n",
       "      <th>Durchschnitt Anzahl Arten</th>\n",
       "      <td>77.092247</td>\n",
       "      <td>403.178680</td>\n",
       "    </tr>\n",
       "    <tr>\n",
       "      <th>Durchschnitt Entfernungen</th>\n",
       "      <td>0.025359</td>\n",
       "      <td>0.082746</td>\n",
       "    </tr>\n",
       "    <tr>\n",
       "      <th>Durchschnitt Maximales Vorkommen</th>\n",
       "      <td>5.735044</td>\n",
       "      <td>21.170098</td>\n",
       "    </tr>\n",
       "    <tr>\n",
       "      <th>Durchschnitt Anzahl Arten, die nur einmal vorkommen</th>\n",
       "      <td>63.220171</td>\n",
       "      <td>235.975959</td>\n",
       "    </tr>\n",
       "  </tbody>\n",
       "</table>\n",
       "</div>"
      ],
      "text/plain": [
       "                                                        k=100       k=800\n",
       "Durchschnitt Anzahl Arten                           77.092247  403.178680\n",
       "Durchschnitt Entfernungen                            0.025359    0.082746\n",
       "Durchschnitt Maximales Vorkommen                     5.735044   21.170098\n",
       "Durchschnitt Anzahl Arten, die nur einmal vorko...  63.220171  235.975959"
      ]
     },
     "execution_count": 109,
     "metadata": {},
     "output_type": "execute_result"
    }
   ],
   "source": [
    "pd_neighbors_error_rate = pd.DataFrame(df_data, columns=[\"k=100\", \"k=800\"])\n",
    "pd_neighbors_error_rate.index = [\"Durchschnitt Anzahl Arten\",\"Durchschnitt Entfernungen\", \"Durchschnitt Maximales Vorkommen\", \"Durchschnitt Anzahl Arten, die nur einmal vorkommen\"]\n",
    "pd_neighbors_error_rate"
   ]
  }
 ],
 "metadata": {
  "kernelspec": {
   "display_name": "Python 3 (ipykernel)",
   "language": "python",
   "name": "python3"
  },
  "language_info": {
   "codemirror_mode": {
    "name": "ipython",
    "version": 3
   },
   "file_extension": ".py",
   "mimetype": "text/x-python",
   "name": "python",
   "nbconvert_exporter": "python",
   "pygments_lexer": "ipython3",
   "version": "3.9.12"
  }
 },
 "nbformat": 4,
 "nbformat_minor": 5
}
